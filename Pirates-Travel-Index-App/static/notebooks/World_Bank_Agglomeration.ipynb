{
 "cells": [
  {
   "cell_type": "code",
   "execution_count": 1,
   "metadata": {},
   "outputs": [],
   "source": [
    "import numpy as np\n",
    "import pandas as pd"
   ]
  },
  {
   "cell_type": "code",
   "execution_count": 2,
   "metadata": {},
   "outputs": [],
   "source": [
    "# build up CSV paths\n",
    "csv_path = \"../../db/data/raw\"\n",
    "world_bank_arrivals_csv     = csv_path + \"/API_ST.INT.ARVL_DS2_en_csv_v2_424268/API_ST.INT.ARVL_DS2_en_csv_v2_424268.csv\"\n",
    "world_bank_departures_csv   = csv_path + \"/API_ST.INT.DPRT_DS2_en_csv_v2_424601/API_ST.INT.DPRT_DS2_en_csv_v2_424601.csv\"\n",
    "world_bank_expenditures_csv = csv_path + \"/API_ST.INT.RCPT.CD_DS2_en_csv_v2_422817/API_ST.INT.RCPT.CD_DS2_en_csv_v2_422817.csv\"\n",
    "world_bank_receipts_csv     = csv_path + \"/API_ST.INT.XPND.CD_DS2_en_csv_v2_433832/API_ST.INT.XPND.CD_DS2_en_csv_v2_433832.csv\""
   ]
  },
  {
   "cell_type": "code",
   "execution_count": 3,
   "metadata": {},
   "outputs": [],
   "source": [
    "world_bank_data_csv = [world_bank_arrivals_csv, world_bank_departures_csv, world_bank_expenditures_csv, world_bank_receipts_csv]"
   ]
  },
  {
   "cell_type": "code",
   "execution_count": 4,
   "metadata": {},
   "outputs": [],
   "source": [
    "# read all CSVs into DataFrames\n",
    "world_bank_dfs = []\n",
    "for i in range(len(world_bank_data_csv)):\n",
    "    world_bank_dfs.append(pd.read_csv(world_bank_data_csv[i], skiprows=3).iloc[:, :-1])"
   ]
  },
  {
   "cell_type": "code",
   "execution_count": 5,
   "metadata": {},
   "outputs": [],
   "source": [
    "# value variables\n",
    "years = []\n",
    "for year in range(1960,2020):\n",
    "    years.append(str(year))"
   ]
  },
  {
   "cell_type": "code",
   "execution_count": 6,
   "metadata": {},
   "outputs": [],
   "source": [
    "# melt all DataFrames\n",
    "value_names = [\"Arrivals_in_Thousands\", \"Departures_in_Thousands\", \"Expenditures_in_USD_Millions\", \"Receipts_in_USD_Millions\"]\n",
    "melted_dfs = []\n",
    "for i in range(len(world_bank_dfs)):\n",
    "    melted_dfs.append(pd.melt(world_bank_dfs[i], id_vars = ['Country Name','Country Code'], \n",
    "                      value_vars = years, var_name = \"Year\", value_name = value_names[i]))"
   ]
  },
  {
   "cell_type": "code",
   "execution_count": 7,
   "metadata": {},
   "outputs": [],
   "source": [
    "# merge DataFrames into one combined DataFrame\n",
    "merge_keys = ['Country Name', 'Country Code', 'Year']\n",
    "combined_df = melted_dfs[0]\n",
    "for i in range(1,len(melted_dfs)):\n",
    "    combined_df = combined_df.merge(melted_dfs[i], how='left', on=merge_keys)"
   ]
  },
  {
   "cell_type": "code",
   "execution_count": 8,
   "metadata": {},
   "outputs": [],
   "source": [
    "# make all column names snaked-cased\n",
    "combined_df.columns = combined_df.columns.str.replace(' ', '_')"
   ]
  },
  {
   "cell_type": "code",
   "execution_count": 9,
   "metadata": {},
   "outputs": [],
   "source": [
    "# save final DataFrame to CSV\n",
    "combined_df.to_csv(\"../../db/data/world_bank_tourism.csv\", index=False)"
   ]
  },
  {
   "cell_type": "code",
   "execution_count": null,
   "metadata": {},
   "outputs": [],
   "source": []
  }
 ],
 "metadata": {
  "kernelspec": {
   "display_name": "Conda [PythonData]",
   "language": "python",
   "name": "pythondata"
  },
  "language_info": {
   "codemirror_mode": {
    "name": "ipython",
    "version": 3
   },
   "file_extension": ".py",
   "mimetype": "text/x-python",
   "name": "python",
   "nbconvert_exporter": "python",
   "pygments_lexer": "ipython3",
   "version": "3.6.8"
  }
 },
 "nbformat": 4,
 "nbformat_minor": 2
}
