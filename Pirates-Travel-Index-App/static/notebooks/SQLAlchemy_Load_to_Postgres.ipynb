{
 "cells": [
  {
   "cell_type": "code",
   "execution_count": 1,
   "metadata": {},
   "outputs": [],
   "source": [
    "# Python SQL toolkit and Object Relational Mapper\n",
    "import pandas as pd\n",
    "import sqlalchemy\n",
    "from sqlalchemy.ext.automap import automap_base\n",
    "from sqlalchemy.orm import Session\n",
    "from sqlalchemy import create_engine, MetaData\n",
    "\n",
    "# Import the uri from the scripts directory\n",
    "import sys\n",
    "sys.path.append('../scripts')\n",
    "from config import dev_uri, test_uri, prod_uri"
   ]
  },
  {
   "cell_type": "code",
   "execution_count": 2,
   "metadata": {},
   "outputs": [],
   "source": [
    "# pass chosen uri string into engine depending on environment\n",
    "uri = prod_uri\n",
    "engine = create_engine(uri)"
   ]
  },
  {
   "cell_type": "code",
   "execution_count": 3,
   "metadata": {},
   "outputs": [],
   "source": [
    "# delete all table data before appending\n",
    "meta = MetaData()\n",
    "meta.reflect(bind=engine)\n",
    "for table in reversed(meta.sorted_tables):\n",
    "    engine.execute(table.delete())"
   ]
  },
  {
   "cell_type": "code",
   "execution_count": 4,
   "metadata": {},
   "outputs": [],
   "source": [
    "# reflect an existing database into a new model\n",
    "Base = automap_base()\n",
    "# reflect the tables\n",
    "Base.prepare(engine, reflect=True)"
   ]
  },
  {
   "cell_type": "code",
   "execution_count": 5,
   "metadata": {},
   "outputs": [
    {
     "data": {
      "text/plain": [
       "['gdci_city_country',\n",
       " 'gdci_expenses',\n",
       " 'gdci_tourists',\n",
       " 'un_city_population',\n",
       " 'world_bank_country_classification',\n",
       " 'world_bank_indicator_code',\n",
       " 'world_bank_tourism',\n",
       " 'world_happiness_report']"
      ]
     },
     "execution_count": 5,
     "metadata": {},
     "output_type": "execute_result"
    }
   ],
   "source": [
    "# We can view all of the classes that automap found\n",
    "sorted(Base.classes.keys())"
   ]
  },
  {
   "cell_type": "code",
   "execution_count": 6,
   "metadata": {},
   "outputs": [
    {
     "data": {
      "text/plain": [
       "['../../db/data/GDCI_city_country.csv',\n",
       " '../../db/data/GDCI_expenses.csv',\n",
       " '../../db/data/GDCI_tourists.csv',\n",
       " '../../db/data/un_city_population_full.csv',\n",
       " '../../db/data/un_city_population_in_scope.csv',\n",
       " '../../db/data/world_bank_country_classification.csv',\n",
       " '../../db/data/world_bank_indicator_code.csv',\n",
       " '../../db/data/world_bank_tourism.csv',\n",
       " '../../db/data/world_happiness_report_2017_to_2019.csv']"
      ]
     },
     "execution_count": 6,
     "metadata": {},
     "output_type": "execute_result"
    }
   ],
   "source": [
    "# grab all the CSVs containing data\n",
    "all_csvs = !ls \"../../db/data\"/*.csv\n",
    "all_csvs"
   ]
  },
  {
   "cell_type": "code",
   "execution_count": 7,
   "metadata": {},
   "outputs": [],
   "source": [
    "# transform CSVs into DataFrames\n",
    "csv_df = []\n",
    "for i in range(len(all_csvs)):\n",
    "    csv_df.append(pd.read_csv(all_csvs[i]))"
   ]
  },
  {
   "cell_type": "code",
   "execution_count": 8,
   "metadata": {},
   "outputs": [],
   "source": [
    "# save DataFrames into easier-to-read ones\n",
    "GDCI_city_country_df                 = csv_df[0]\n",
    "GDCI_expenses_df                     = csv_df[1]\n",
    "GDCI_tourists_df                     = csv_df[2]\n",
    "un_city_population_df                = csv_df[4]\n",
    "world_bank_country_classification_df = csv_df[5]\n",
    "world_bank_indicator_code_df         = csv_df[6]\n",
    "world_bank_tourism_df                = csv_df[7]\n",
    "world_happiness_report_df            = csv_df[8]"
   ]
  },
  {
   "cell_type": "code",
   "execution_count": 9,
   "metadata": {},
   "outputs": [],
   "source": [
    "# write out rows in DataFrames to Postgres tables\n",
    "GDCI_city_country_df.to_sql('gdci_city_country', con=engine, index=False, if_exists='append')\n",
    "GDCI_expenses_df.to_sql('gdci_expenses', con=engine, index=False, if_exists='append')\n",
    "GDCI_tourists_df.to_sql('gdci_tourists', con=engine, index=False, if_exists='append')\n",
    "un_city_population_df.to_sql('un_city_population', con=engine, index=False, if_exists='append')\n",
    "world_bank_country_classification_df.to_sql('world_bank_country_classification', con=engine, index=False, if_exists='append')\n",
    "world_bank_indicator_code_df.to_sql('world_bank_indicator_code', con=engine, index=False, if_exists='append')\n",
    "world_bank_tourism_df.to_sql('world_bank_tourism', con=engine, index=False, if_exists='append')\n",
    "world_happiness_report_df.to_sql('world_happiness_report', con=engine, index=False, if_exists='append')"
   ]
  },
  {
   "cell_type": "code",
   "execution_count": 10,
   "metadata": {},
   "outputs": [],
   "source": [
    "# close all connections coming from engine\n",
    "engine.dispose()"
   ]
  },
  {
   "cell_type": "code",
   "execution_count": null,
   "metadata": {},
   "outputs": [],
   "source": []
  }
 ],
 "metadata": {
  "kernelspec": {
   "display_name": "Conda [PythonData]",
   "language": "python",
   "name": "pythondata"
  },
  "language_info": {
   "codemirror_mode": {
    "name": "ipython",
    "version": 3
   },
   "file_extension": ".py",
   "mimetype": "text/x-python",
   "name": "python",
   "nbconvert_exporter": "python",
   "pygments_lexer": "ipython3",
   "version": "3.6.8"
  }
 },
 "nbformat": 4,
 "nbformat_minor": 2
}